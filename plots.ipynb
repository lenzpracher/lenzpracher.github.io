{
 "cells": [
  {
   "cell_type": "code",
   "execution_count": 35,
   "metadata": {},
   "outputs": [],
   "source": [
    "import math\n",
    "import plotly.graph_objects as go\n",
    "\n",
    "# --- Define the 3-Simplex (Standard Tetrahedron) ---\n",
    "A = [0, 0, 0]\n",
    "B = [1, 0, 0]\n",
    "C = [0, 1, 0]\n",
    "D = [0, 0, 1]\n",
    "\n",
    "# Compute the centroid of the 3-simplex\n",
    "centroid = [\n",
    "    (A[0] + B[0] + C[0] + D[0]) / 4,\n",
    "    (A[1] + B[1] + C[1] + D[1]) / 4,\n",
    "    (A[2] + B[2] + C[2] + D[2]) / 4\n",
    "]\n",
    "\n",
    "# --- Create a trace for the simplex edges (lightgrey) ---\n",
    "edges_simplex = [(A, B), (A, C), (A, D), (B, C), (B, D), (C, D)]\n",
    "x_edges, y_edges, z_edges = [], [], []\n",
    "for p1, p2 in edges_simplex:\n",
    "    x_edges.extend([p1[0], p2[0], None])\n",
    "    y_edges.extend([p1[1], p2[1], None])\n",
    "    z_edges.extend([p1[2], p2[2], None])\n",
    "\n",
    "tetra_edges = go.Scatter3d(\n",
    "    x=x_edges, y=y_edges, z=z_edges,\n",
    "    mode='lines',\n",
    "    line=dict(color='lightgrey', width=5),\n",
    "    showlegend=False\n",
    ")\n",
    "\n",
    "# --- Dummy Mesh for the Clipped Plane with intensity ---\n",
    "dummy_plane = go.Mesh3d(\n",
    "    x=[centroid[0], centroid[0], centroid[0]],\n",
    "    y=[centroid[1], centroid[1], centroid[1]],\n",
    "    z=[centroid[2], centroid[2], centroid[2]],\n",
    "    i=[0], j=[1], k=[2],\n",
    "    intensity=[0, 0, 0],\n",
    "    colorscale=[[0, 'black'], [1, 'lightgrey']],\n",
    "    opacity=0.5,\n",
    "    showscale=False,\n",
    "    name='Clipped Plane'\n",
    ")\n",
    "\n",
    "# --- Vertex Annotations ---\n",
    "vertex_annotations = go.Scatter3d(\n",
    "    x=[B[0], C[0], D[0], A[0]],\n",
    "    y=[B[1], C[1], D[1], A[1]],\n",
    "    z=[B[2], C[2], D[2], A[2]],\n",
    "    mode='markers+text',\n",
    "    marker=dict(size=5, color='lightgrey'),\n",
    "    text=[\"CC\", \"CD\", \"DC\", \"DD\"],\n",
    "    textposition=\"top center\",\n",
    "    showlegend=False\n",
    ")\n",
    "\n",
    "# --- Edge Annotations (initially dummy; updated in JS) ---\n",
    "edge_annotations = go.Scatter3d(\n",
    "    x=[None],\n",
    "    y=[None],\n",
    "    z=[None],\n",
    "    mode='text',\n",
    "    text=[\"ALLC\", \"COPY\", \"ALLD\", \"ACOPY\"],\n",
    "    textfont=dict(size=24, color='lightgrey'),\n",
    "    textposition=\"middle center\",\n",
    "    showlegend=False\n",
    ")\n",
    "\n",
    "# --- Start Point Marker (initially dummy; will be updated) ---\n",
    "start_point = go.Scatter3d(\n",
    "    x=[None],\n",
    "    y=[None],\n",
    "    z=[None],\n",
    "    mode='markers',\n",
    "    marker=dict(size=3, color='darkblue'),\n",
    "    showlegend=False\n",
    ")\n",
    "\n",
    "fig = go.Figure(data=[tetra_edges, dummy_plane, vertex_annotations, edge_annotations, start_point])\n",
    "fig.update_layout(\n",
    "    paper_bgcolor='#2c2c2c',\n",
    "    plot_bgcolor='#2c2c2c',\n",
    "    font_color='#e0e0e0',\n",
    "    showlegend=False,\n",
    "    scene=dict(\n",
    "        xaxis=dict(visible=False),\n",
    "        yaxis=dict(visible=False),\n",
    "        zaxis=dict(visible=False)\n",
    "    )\n",
    ")\n",
    "\n",
    "html_str = fig.to_html(include_plotlyjs='cdn', full_html=True, div_id='plot')\n",
    "\n",
    "# --- Inject Custom HTML and JavaScript ---\n",
    "# Here the slider container is positioned fixed at the bottom center of the viewport.\n",
    "custom_html = \"\"\"\n",
    "<style>\n",
    "  /* Position the slider container at the bottom center */\n",
    "  #slider-container {\n",
    "    position: fixed;\n",
    "    bottom: 20px;\n",
    "    left: 50%;\n",
    "    transform: translateX(-50%);\n",
    "    background: rgba(44,44,44,0.8);\n",
    "    padding: 10px 20px;\n",
    "    border-radius: 5px;\n",
    "    z-index: 1000;\n",
    "  }\n",
    "  #slider-container div {\n",
    "    margin: 5px;\n",
    "  }\n",
    "  #slider-container label {\n",
    "    color: grey;\n",
    "    font-size: 14px;\n",
    "  }\n",
    "  #slider-container span {\n",
    "    color: grey;\n",
    "    font-size: 14px;\n",
    "  }\n",
    "</style>\n",
    "<div id=\"slider-container\">\n",
    "  <div style=\"display: flex; gap: 40px;\">\n",
    "    <div>\n",
    "      <div>\n",
    "        <label>p1:\n",
    "          <input type=\"range\" id=\"p1-slider\" min=\"0\" max=\"1\" step=\"0.01\" value=\"0.8\" style=\"accent-color:#444;\">\n",
    "        </label>\n",
    "        <span id=\"p1-val\">0.8</span>\n",
    "      </div>\n",
    "      <div>\n",
    "        <label>p2:\n",
    "          <input type=\"range\" id=\"p2-slider\" min=\"0\" max=\"1\" step=\"0.01\" value=\"0.5\" style=\"accent-color:#444;\">\n",
    "        </label>\n",
    "        <span id=\"p2-val\">0.5</span>\n",
    "      </div>\n",
    "      <div>\n",
    "        <label>p3:\n",
    "          <input type=\"range\" id=\"p3-slider\" min=\"0\" max=\"1\" step=\"0.01\" value=\"0.3\" style=\"accent-color:#444;\">\n",
    "        </label>\n",
    "        <span id=\"p3-val\">0.3</span>\n",
    "      </div>\n",
    "      <div>\n",
    "        <label>p4:\n",
    "          <input type=\"range\" id=\"p4-slider\" min=\"0\" max=\"1\" step=\"0.01\" value=\"0.4\" style=\"accent-color:#444;\">\n",
    "        </label>\n",
    "        <span id=\"p4-val\">0.4</span>\n",
    "      </div>\n",
    "    </div>\n",
    "    <div>\n",
    "      <div>\n",
    "        <label>R:\n",
    "          <input type=\"range\" id=\"R-slider\" min=\"-5\" max=\"5\" step=\"0.01\" value=\"3\" style=\"accent-color:#444;\">\n",
    "        </label>\n",
    "        <span id=\"R-val\">3</span>\n",
    "      </div>\n",
    "      <div>\n",
    "        <label>S:\n",
    "          <input type=\"range\" id=\"S-slider\" min=\"-5\" max=\"5\" step=\"0.01\" value=\"2\" style=\"accent-color:#444;\">\n",
    "        </label>\n",
    "        <span id=\"S-val\">2</span>\n",
    "      </div>\n",
    "      <div>\n",
    "        <label>T:\n",
    "          <input type=\"range\" id=\"T-slider\" min=\"-5\" max=\"5\" step=\"0.01\" value=\"5\" style=\"accent-color:#444;\">\n",
    "        </label>\n",
    "        <span id=\"T-val\">5</span>\n",
    "      </div>\n",
    "      <div>\n",
    "        <label>P:\n",
    "          <input type=\"range\" id=\"P-slider\" min=\"-5\" max=\"5\" step=\"0.01\" value=\"1\" style=\"accent-color:#444;\">\n",
    "        </label>\n",
    "        <span id=\"P-val\">1</span>\n",
    "      </div>\n",
    "    </div>\n",
    "  </div>\n",
    "</div>\n",
    "<script>\n",
    "function normalize(v) {\n",
    "  var mag = Math.sqrt(v[0]*v[0] + v[1]*v[1] + v[2]*v[2]);\n",
    "  return [v[0]/mag, v[1]/mag, v[2]/mag];\n",
    "}\n",
    "function cross(a, b) {\n",
    "  return [\n",
    "    a[1]*b[2] - a[2]*b[1],\n",
    "    a[2]*b[0] - a[0]*b[2],\n",
    "    a[0]*b[1] - a[1]*b[0]\n",
    "  ];\n",
    "}\n",
    "function dot(a, b) {\n",
    "  return a[0]*b[0] + a[1]*b[1] + a[2]*b[2];\n",
    "}\n",
    "function subtract(a, b) {\n",
    "  return [a[0]-b[0], a[1]-b[1], a[2]-b[2]];\n",
    "}\n",
    "function add(a, b) {\n",
    "  return [a[0]+b[0], a[1]+b[1], a[2]+b[2]];\n",
    "}\n",
    "function scale(v, s) {\n",
    "  return [v[0]*s, v[1]*s, v[2]*s];\n",
    "}\n",
    "function edgeIntersection(P1, P2, planePt, norm) {\n",
    "  var d1 = dot(subtract(P1, planePt), norm);\n",
    "  var d2 = dot(subtract(P2, planePt), norm);\n",
    "  if(d1*d2 <= 0) {\n",
    "    var t = -d1 / (d2 - d1);\n",
    "    return add(P1, scale(subtract(P2, P1), t));\n",
    "  }\n",
    "  return null;\n",
    "}\n",
    "function updatePlane() {\n",
    "  var p1_val = parseFloat(document.getElementById(\"p1-slider\").value);\n",
    "  var p2_val = parseFloat(document.getElementById(\"p2-slider\").value);\n",
    "  var p3_val = parseFloat(document.getElementById(\"p3-slider\").value);\n",
    "  var p4_val = parseFloat(document.getElementById(\"p4-slider\").value);\n",
    "  document.getElementById(\"p1-val\").innerText = p1_val;\n",
    "  document.getElementById(\"p2-val\").innerText = p2_val;\n",
    "  document.getElementById(\"p3-val\").innerText = p3_val;\n",
    "  document.getElementById(\"p4-val\").innerText = p4_val;\n",
    "  \n",
    "  // Normal vector: (v1,v2,v3) = (1 - p1 + p4, 1 - p2 + p4, p4 - p3)\n",
    "  var v1 = 1 - p1_val + p4_val;\n",
    "  var v2 = 1 - p2_val + p4_val;\n",
    "  var v3 = p4_val - p3_val;\n",
    "  var normal = normalize([v1, v2, v3]);\n",
    "  \n",
    "  var R_val = parseFloat(document.getElementById(\"R-slider\").value);\n",
    "  var S_val = parseFloat(document.getElementById(\"S-slider\").value);\n",
    "  var T_val = parseFloat(document.getElementById(\"T-slider\").value);\n",
    "  var P_val = parseFloat(document.getElementById(\"P-slider\").value);\n",
    "  document.getElementById(\"R-val\").innerText = R_val;\n",
    "  document.getElementById(\"S-val\").innerText = S_val;\n",
    "  document.getElementById(\"T-val\").innerText = T_val;\n",
    "  document.getElementById(\"P-val\").innerText = P_val;\n",
    "  \n",
    "  var projVector = [R_val - P_val, S_val - P_val, T_val - P_val];\n",
    "  \n",
    "  var A = [0, 0, 0];\n",
    "  var B = [1, 0, 0];\n",
    "  var C = [0, 1, 0];\n",
    "  var D = [0, 0, 1];\n",
    "  var centroid_simplex = [\n",
    "    (A[0]+B[0]+C[0]+D[0]) / 4,\n",
    "    (A[1]+B[1]+C[1]+D[1]) / 4,\n",
    "    (A[2]+B[2]+C[2]+D[2]) / 4\n",
    "  ];\n",
    "  \n",
    "  // (I) Calculate the \"start point\" using the provided formula.\n",
    "  var Den = -1 + p3_val - Math.pow(p1_val,2)*(-1+p2_val+p3_val-2*p4_val) - 2*p4_val + Math.pow(p4_val,2) + p3_val*Math.pow(p4_val,2) + 2*p1_val*(p2_val*p3_val-Math.pow(p4_val,2)) + p2_val*(1+Math.pow(p4_val,2)-2*p3_val*(1+p4_val));\n",
    "  var start_x = (p4_val * (((-1+p3_val)*p4_val) + p2_val*(-2*p3_val+p4_val))) / Den;\n",
    "  var start_y = (((-1+p1_val)*(1+p1_val-p4_val)*p4_val)) / Den;\n",
    "  var start_z = (((-1+p1_val)*(1+p1_val-p4_val)*p4_val)) / Den;\n",
    "  var startPoint = [start_x, start_y, start_z];\n",
    "  \n",
    "  // (II) Create the plane using startPoint and normal.\n",
    "  var edges = [\n",
    "    [A, B],\n",
    "    [A, C],\n",
    "    [A, D],\n",
    "    [B, C],\n",
    "    [B, D],\n",
    "    [C, D]\n",
    "  ];\n",
    "  var intersections = [];\n",
    "  for (var i = 0; i < edges.length; i++) {\n",
    "    var P1 = edges[i][0];\n",
    "    var P2 = edges[i][1];\n",
    "    var d1 = dot(subtract(P1, startPoint), normal);\n",
    "    var d2 = dot(subtract(P2, startPoint), normal);\n",
    "    if(Math.abs(d1) < 1e-6 && !intersections.some(p => Math.hypot(p[0]-P1[0], p[1]-P1[1], p[2]-P1[2]) < 1e-6)) {\n",
    "      intersections.push(P1);\n",
    "    }\n",
    "    if(Math.abs(d2) < 1e-6 && !intersections.some(p => Math.hypot(p[0]-P2[0], p[1]-P2[1], p[2]-P2[2]) < 1e-6)) {\n",
    "      intersections.push(P2);\n",
    "    }\n",
    "    if(d1*d2 < 0) {\n",
    "      var t = -d1/(d2-d1);\n",
    "      var interPt = add(P1, scale(subtract(P2, P1), t));\n",
    "      if(!intersections.some(p => Math.hypot(p[0]-interPt[0], p[1]-interPt[1], p[2]-interPt[2]) < 1e-6)) {\n",
    "        intersections.push(interPt);\n",
    "      }\n",
    "    }\n",
    "  }\n",
    "  if(intersections.length < 3) return;\n",
    "  \n",
    "  // (III) Clip the plane: Keep only intersections within the simplex.\n",
    "  var points2D = intersections.map(function(pt) {\n",
    "    var diff = subtract(pt, startPoint);\n",
    "    var ref = (Math.abs(normal[0]) < 0.001 && Math.abs(normal[1]) < 0.001) ? [0,1,0] : [1,0,0];\n",
    "    return { pt: pt, angle: Math.atan2(dot(diff, cross(normal, ref)), dot(diff, ref)) };\n",
    "  });\n",
    "  points2D.sort(function(a, b) { return a.angle - b.angle; });\n",
    "  var sortedPoints = points2D.map(function(p) { return p.pt; });\n",
    "  \n",
    "  var X = sortedPoints.map(p => p[0]);\n",
    "  var Y = sortedPoints.map(p => p[1]);\n",
    "  var Z = sortedPoints.map(p => p[2]);\n",
    "  var tri_i = [], tri_j = [], tri_k = [];\n",
    "  for(var i = 1; i < sortedPoints.length - 1; i++){\n",
    "    tri_i.push(0);\n",
    "    tri_j.push(i);\n",
    "    tri_k.push(i+1);\n",
    "  }\n",
    "  \n",
    "  var polyCentroid = [0,0,0];\n",
    "  sortedPoints.forEach(function(pt) {\n",
    "    polyCentroid = add(polyCentroid, pt);\n",
    "  });\n",
    "  polyCentroid = scale(polyCentroid, 1/sortedPoints.length);\n",
    "  var intensity = sortedPoints.map(function(pt) {\n",
    "    return dot(subtract(pt, polyCentroid), projVector);\n",
    "  });\n",
    "  \n",
    "  Plotly.restyle('plot', {\n",
    "    x: [X],\n",
    "    y: [Y],\n",
    "    z: [Z],\n",
    "    i: [tri_i],\n",
    "    j: [tri_j],\n",
    "    k: [tri_k],\n",
    "    intensity: [intensity]\n",
    "  }, 1);\n",
    "  \n",
    "  var interBD = edgeIntersection(B, D, startPoint, normal);\n",
    "  var interBA = edgeIntersection(B, A, startPoint, normal);\n",
    "  var interAC = edgeIntersection(A, C, startPoint, normal);\n",
    "  var interCD = edgeIntersection(C, D, startPoint, normal);\n",
    "  \n",
    "  var edgeAnnX = [], edgeAnnY = [], edgeAnnZ = [], edgeAnnText = [];\n",
    "  if(interBD != null) { edgeAnnX.push(interBD[0]); edgeAnnY.push(interBD[1]); edgeAnnZ.push(interBD[2]); edgeAnnText.push(\"ALLC\"); }\n",
    "  if(interBA != null) { edgeAnnX.push(interBA[0]); edgeAnnY.push(interBA[1]); edgeAnnZ.push(interBA[2]); edgeAnnText.push(\"COPY\"); }\n",
    "  if(interAC != null) { edgeAnnX.push(interAC[0]); edgeAnnY.push(interAC[1]); edgeAnnZ.push(interAC[2]); edgeAnnText.push(\"ALLD\"); }\n",
    "  if(interCD != null) { edgeAnnX.push(interCD[0]); edgeAnnY.push(interCD[1]); edgeAnnZ.push(interCD[2]); edgeAnnText.push(\"ACOPY\"); }\n",
    "  \n",
    "  Plotly.restyle('plot', {\n",
    "    x: [edgeAnnX],\n",
    "    y: [edgeAnnY],\n",
    "    z: [edgeAnnZ],\n",
    "    text: [edgeAnnText]\n",
    "  }, 3);\n",
    "  \n",
    "  Plotly.restyle('plot', {\n",
    "    x: [[startPoint[0]]],\n",
    "    y: [[startPoint[1]]],\n",
    "    z: [[startPoint[2]]]\n",
    "  }, 4);\n",
    "}\n",
    "document.getElementById(\"p1-slider\").addEventListener(\"input\", updatePlane);\n",
    "document.getElementById(\"p2-slider\").addEventListener(\"input\", updatePlane);\n",
    "document.getElementById(\"p3-slider\").addEventListener(\"input\", updatePlane);\n",
    "document.getElementById(\"p4-slider\").addEventListener(\"input\", updatePlane);\n",
    "document.getElementById(\"R-slider\").addEventListener(\"input\", updatePlane);\n",
    "document.getElementById(\"S-slider\").addEventListener(\"input\", updatePlane);\n",
    "document.getElementById(\"T-slider\").addEventListener(\"input\", updatePlane);\n",
    "document.getElementById(\"P-slider\").addEventListener(\"input\", updatePlane);\n",
    "document.addEventListener(\"DOMContentLoaded\", updatePlane);\n",
    "</script>\n",
    "\"\"\"\n",
    "html_str = html_str.replace(\"<body>\", \"<body>\" + custom_html)\n",
    "with open(\"my-website/static/simplex.html\", \"w\") as f:\n",
    "    f.write(html_str)\n"
   ]
  },
  {
   "cell_type": "code",
   "execution_count": 2,
   "metadata": {},
   "outputs": [
    {
     "data": {
      "application/vnd.plotly.v1+json": {
       "config": {
        "plotlyServerURL": "https://plot.ly"
       },
       "data": [
        {
         "hovertemplate": "species=setosa<br>sepal_length=%{x}<br>sepal_width=%{y}<br>petal_width=%{z}<extra></extra>",
         "legendgroup": "setosa",
         "marker": {
          "color": "#636efa",
          "symbol": "circle"
         },
         "mode": "markers",
         "name": "setosa",
         "scene": "scene",
         "showlegend": true,
         "type": "scatter3d",
         "x": {
          "bdata": "ZmZmZmZmFECamZmZmZkTQM3MzMzMzBJAZmZmZmZmEkAAAAAAAAAUQJqZmZmZmRVAZmZmZmZmEkAAAAAAAAAUQJqZmZmZmRFAmpmZmZmZE0CamZmZmZkVQDMzMzMzMxNAMzMzMzMzE0AzMzMzMzMRQDMzMzMzMxdAzczMzMzMFkCamZmZmZkVQGZmZmZmZhRAzczMzMzMFkBmZmZmZmYUQJqZmZmZmRVAZmZmZmZmFEBmZmZmZmYSQGZmZmZmZhRAMzMzMzMzE0AAAAAAAAAUQAAAAAAAABRAzczMzMzMFEDNzMzMzMwUQM3MzMzMzBJAMzMzMzMzE0CamZmZmZkVQM3MzMzMzBRAAAAAAAAAFkCamZmZmZkTQAAAAAAAABRAAAAAAAAAFkCamZmZmZkTQJqZmZmZmRFAZmZmZmZmFEAAAAAAAAAUQAAAAAAAABJAmpmZmZmZEUAAAAAAAAAUQGZmZmZmZhRAMzMzMzMzE0BmZmZmZmYUQGZmZmZmZhJAMzMzMzMzFUAAAAAAAAAUQA==",
          "dtype": "f8"
         },
         "y": {
          "bdata": "AAAAAAAADEAAAAAAAAAIQJqZmZmZmQlAzczMzMzMCEDNzMzMzMwMQDMzMzMzMw9AMzMzMzMzC0AzMzMzMzMLQDMzMzMzMwdAzczMzMzMCECamZmZmZkNQDMzMzMzMwtAAAAAAAAACEAAAAAAAAAIQAAAAAAAABBAmpmZmZmZEUAzMzMzMzMPQAAAAAAAAAxAZmZmZmZmDkBmZmZmZmYOQDMzMzMzMwtAmpmZmZmZDUDNzMzMzMwMQGZmZmZmZgpAMzMzMzMzC0AAAAAAAAAIQDMzMzMzMwtAAAAAAAAADEAzMzMzMzMLQJqZmZmZmQlAzczMzMzMCEAzMzMzMzMLQGZmZmZmZhBAzczMzMzMEEDNzMzMzMwIQJqZmZmZmQlAAAAAAAAADEDNzMzMzMwIQAAAAAAAAAhAMzMzMzMzC0AAAAAAAAAMQGZmZmZmZgJAmpmZmZmZCUAAAAAAAAAMQGZmZmZmZg5AAAAAAAAACEBmZmZmZmYOQJqZmZmZmQlAmpmZmZmZDUBmZmZmZmYKQA==",
          "dtype": "f8"
         },
         "z": {
          "bdata": "mpmZmZmZyT+amZmZmZnJP5qZmZmZmck/mpmZmZmZyT+amZmZmZnJP5qZmZmZmdk/MzMzMzMz0z+amZmZmZnJP5qZmZmZmck/mpmZmZmZuT+amZmZmZnJP5qZmZmZmck/mpmZmZmZuT+amZmZmZm5P5qZmZmZmck/mpmZmZmZ2T+amZmZmZnZPzMzMzMzM9M/MzMzMzMz0z8zMzMzMzPTP5qZmZmZmck/mpmZmZmZ2T+amZmZmZnJPwAAAAAAAOA/mpmZmZmZyT+amZmZmZnJP5qZmZmZmdk/mpmZmZmZyT+amZmZmZnJP5qZmZmZmck/mpmZmZmZyT+amZmZmZnZP5qZmZmZmbk/mpmZmZmZyT+amZmZmZm5P5qZmZmZmck/mpmZmZmZyT+amZmZmZm5P5qZmZmZmck/mpmZmZmZyT8zMzMzMzPTPzMzMzMzM9M/mpmZmZmZyT8zMzMzMzPjP5qZmZmZmdk/MzMzMzMz0z+amZmZmZnJP5qZmZmZmck/mpmZmZmZyT+amZmZmZnJPw==",
          "dtype": "f8"
         }
        },
        {
         "hovertemplate": "species=versicolor<br>sepal_length=%{x}<br>sepal_width=%{y}<br>petal_width=%{z}<extra></extra>",
         "legendgroup": "versicolor",
         "marker": {
          "color": "#EF553B",
          "symbol": "circle"
         },
         "mode": "markers",
         "name": "versicolor",
         "scene": "scene",
         "showlegend": true,
         "type": "scatter3d",
         "x": {
          "bdata": "AAAAAAAAHECamZmZmZkZQJqZmZmZmRtAAAAAAAAAFkAAAAAAAAAaQM3MzMzMzBZAMzMzMzMzGUCamZmZmZkTQGZmZmZmZhpAzczMzMzMFEAAAAAAAAAUQJqZmZmZmRdAAAAAAAAAGEBmZmZmZmYYQGZmZmZmZhZAzczMzMzMGkBmZmZmZmYWQDMzMzMzMxdAzczMzMzMGEBmZmZmZmYWQJqZmZmZmRdAZmZmZmZmGEAzMzMzMzMZQGZmZmZmZhhAmpmZmZmZGUBmZmZmZmYaQDMzMzMzMxtAzczMzMzMGkAAAAAAAAAYQM3MzMzMzBZAAAAAAAAAFkAAAAAAAAAWQDMzMzMzMxdAAAAAAAAAGECamZmZmZkVQAAAAAAAABhAzczMzMzMGkAzMzMzMzMZQGZmZmZmZhZAAAAAAAAAFkAAAAAAAAAWQGZmZmZmZhhAMzMzMzMzF0AAAAAAAAAUQGZmZmZmZhZAzczMzMzMFkDNzMzMzMwWQM3MzMzMzBhAZmZmZmZmFEDNzMzMzMwWQA==",
          "dtype": "f8"
         },
         "y": {
          "bdata": "mpmZmZmZCUCamZmZmZkJQM3MzMzMzAhAZmZmZmZmAkBmZmZmZmYGQGZmZmZmZgZAZmZmZmZmCkAzMzMzMzMDQDMzMzMzMwdAmpmZmZmZBUAAAAAAAAAAQAAAAAAAAAhAmpmZmZmZAUAzMzMzMzMHQDMzMzMzMwdAzczMzMzMCEAAAAAAAAAIQJqZmZmZmQVAmpmZmZmZAUAAAAAAAAAEQJqZmZmZmQlAZmZmZmZmBkAAAAAAAAAEQGZmZmZmZgZAMzMzMzMzB0AAAAAAAAAIQGZmZmZmZgZAAAAAAAAACEAzMzMzMzMHQM3MzMzMzARAMzMzMzMzA0AzMzMzMzMDQJqZmZmZmQVAmpmZmZmZBUAAAAAAAAAIQDMzMzMzMwtAzczMzMzMCEBmZmZmZmYCQAAAAAAAAAhAAAAAAAAABEDNzMzMzMwEQAAAAAAAAAhAzczMzMzMBEBmZmZmZmYCQJqZmZmZmQVAAAAAAAAACEAzMzMzMzMHQDMzMzMzMwdAAAAAAAAABEBmZmZmZmYGQA==",
          "dtype": "f8"
         },
         "z": {
          "bdata": "ZmZmZmZm9j8AAAAAAAD4PwAAAAAAAPg/zczMzMzM9D8AAAAAAAD4P83MzMzMzPQ/mpmZmZmZ+T8AAAAAAADwP83MzMzMzPQ/ZmZmZmZm9j8AAAAAAADwPwAAAAAAAPg/AAAAAAAA8D9mZmZmZmb2P83MzMzMzPQ/ZmZmZmZm9j8AAAAAAAD4PwAAAAAAAPA/AAAAAAAA+D+amZmZmZnxP83MzMzMzPw/zczMzMzM9D8AAAAAAAD4PzMzMzMzM/M/zczMzMzM9D9mZmZmZmb2P2ZmZmZmZvY/MzMzMzMz+z8AAAAAAAD4PwAAAAAAAPA/mpmZmZmZ8T8AAAAAAADwPzMzMzMzM/M/mpmZmZmZ+T8AAAAAAAD4P5qZmZmZmfk/AAAAAAAA+D/NzMzMzMz0P83MzMzMzPQ/zczMzMzM9D8zMzMzMzPzP2ZmZmZmZvY/MzMzMzMz8z8AAAAAAADwP83MzMzMzPQ/MzMzMzMz8z/NzMzMzMz0P83MzMzMzPQ/mpmZmZmZ8T/NzMzMzMz0Pw==",
          "dtype": "f8"
         }
        },
        {
         "hovertemplate": "species=virginica<br>sepal_length=%{x}<br>sepal_width=%{y}<br>petal_width=%{z}<extra></extra>",
         "legendgroup": "virginica",
         "marker": {
          "color": "#00cc96",
          "symbol": "circle"
         },
         "mode": "markers",
         "name": "virginica",
         "scene": "scene",
         "showlegend": true,
         "type": "scatter3d",
         "x": {
          "bdata": "MzMzMzMzGUAzMzMzMzMXQGZmZmZmZhxAMzMzMzMzGUAAAAAAAAAaQGZmZmZmZh5AmpmZmZmZE0AzMzMzMzMdQM3MzMzMzBpAzczMzMzMHEAAAAAAAAAaQJqZmZmZmRlAMzMzMzMzG0DNzMzMzMwWQDMzMzMzMxdAmpmZmZmZGUAAAAAAAAAaQM3MzMzMzB5AzczMzMzMHkAAAAAAAAAYQJqZmZmZmRtAZmZmZmZmFkDNzMzMzMweQDMzMzMzMxlAzczMzMzMGkDNzMzMzMwcQM3MzMzMzBhAZmZmZmZmGECamZmZmZkZQM3MzMzMzBxAmpmZmZmZHUCamZmZmZkfQJqZmZmZmRlAMzMzMzMzGUBmZmZmZmYYQM3MzMzMzB5AMzMzMzMzGUCamZmZmZkZQAAAAAAAABhAmpmZmZmZG0DNzMzMzMwaQJqZmZmZmRtAMzMzMzMzF0AzMzMzMzMbQM3MzMzMzBpAzczMzMzMGkAzMzMzMzMZQAAAAAAAABpAzczMzMzMGECamZmZmZkXQA==",
          "dtype": "f8"
         },
         "y": {
          "bdata": "ZmZmZmZmCkCamZmZmZkFQAAAAAAAAAhAMzMzMzMzB0AAAAAAAAAIQAAAAAAAAAhAAAAAAAAABEAzMzMzMzMHQAAAAAAAAARAzczMzMzMDECamZmZmZkJQJqZmZmZmQVAAAAAAAAACEAAAAAAAAAEQGZmZmZmZgZAmpmZmZmZCUAAAAAAAAAIQGZmZmZmZg5AzczMzMzMBECamZmZmZkBQJqZmZmZmQlAZmZmZmZmBkBmZmZmZmYGQJqZmZmZmQVAZmZmZmZmCkCamZmZmZkJQGZmZmZmZgZAAAAAAAAACEBmZmZmZmYGQAAAAAAAAAhAZmZmZmZmBkBmZmZmZmYOQGZmZmZmZgZAZmZmZmZmBkDNzMzMzMwEQAAAAAAAAAhAMzMzMzMzC0DNzMzMzMwIQAAAAAAAAAhAzczMzMzMCEDNzMzMzMwIQM3MzMzMzAhAmpmZmZmZBUCamZmZmZkJQGZmZmZmZgpAAAAAAAAACEAAAAAAAAAEQAAAAAAAAAhAMzMzMzMzC0AAAAAAAAAIQA==",
          "dtype": "f8"
         },
         "z": {
          "bdata": "AAAAAAAABEBmZmZmZmb+P83MzMzMzABAzczMzMzM/D+amZmZmZkBQM3MzMzMzABAMzMzMzMz+z/NzMzMzMz8P83MzMzMzPw/AAAAAAAABEAAAAAAAAAAQGZmZmZmZv4/zczMzMzMAEAAAAAAAAAAQDMzMzMzMwNAZmZmZmZmAkDNzMzMzMz8P5qZmZmZmQFAZmZmZmZmAkAAAAAAAAD4P2ZmZmZmZgJAAAAAAAAAAEAAAAAAAAAAQM3MzMzMzPw/zczMzMzMAEDNzMzMzMz8P83MzMzMzPw/zczMzMzM/D/NzMzMzMwAQJqZmZmZmfk/ZmZmZmZm/j8AAAAAAAAAQJqZmZmZmQFAAAAAAAAA+D9mZmZmZmb2P2ZmZmZmZgJAMzMzMzMzA0DNzMzMzMz8P83MzMzMzPw/zczMzMzMAEAzMzMzMzMDQGZmZmZmZgJAZmZmZmZm/j9mZmZmZmYCQAAAAAAAAARAZmZmZmZmAkBmZmZmZmb+PwAAAAAAAABAZmZmZmZmAkDNzMzMzMz8Pw==",
          "dtype": "f8"
         }
        }
       ],
       "layout": {
        "legend": {
         "title": {
          "text": "species"
         },
         "tracegroupgap": 0
        },
        "margin": {
         "t": 60
        },
        "scene": {
         "domain": {
          "x": [
           0,
           1
          ],
          "y": [
           0,
           1
          ]
         },
         "xaxis": {
          "title": {
           "text": "sepal_length"
          }
         },
         "yaxis": {
          "title": {
           "text": "sepal_width"
          }
         },
         "zaxis": {
          "title": {
           "text": "petal_width"
          }
         }
        },
        "template": {
         "data": {
          "bar": [
           {
            "error_x": {
             "color": "#2a3f5f"
            },
            "error_y": {
             "color": "#2a3f5f"
            },
            "marker": {
             "line": {
              "color": "#E5ECF6",
              "width": 0.5
             },
             "pattern": {
              "fillmode": "overlay",
              "size": 10,
              "solidity": 0.2
             }
            },
            "type": "bar"
           }
          ],
          "barpolar": [
           {
            "marker": {
             "line": {
              "color": "#E5ECF6",
              "width": 0.5
             },
             "pattern": {
              "fillmode": "overlay",
              "size": 10,
              "solidity": 0.2
             }
            },
            "type": "barpolar"
           }
          ],
          "carpet": [
           {
            "aaxis": {
             "endlinecolor": "#2a3f5f",
             "gridcolor": "white",
             "linecolor": "white",
             "minorgridcolor": "white",
             "startlinecolor": "#2a3f5f"
            },
            "baxis": {
             "endlinecolor": "#2a3f5f",
             "gridcolor": "white",
             "linecolor": "white",
             "minorgridcolor": "white",
             "startlinecolor": "#2a3f5f"
            },
            "type": "carpet"
           }
          ],
          "choropleth": [
           {
            "colorbar": {
             "outlinewidth": 0,
             "ticks": ""
            },
            "type": "choropleth"
           }
          ],
          "contour": [
           {
            "colorbar": {
             "outlinewidth": 0,
             "ticks": ""
            },
            "colorscale": [
             [
              0,
              "#0d0887"
             ],
             [
              0.1111111111111111,
              "#46039f"
             ],
             [
              0.2222222222222222,
              "#7201a8"
             ],
             [
              0.3333333333333333,
              "#9c179e"
             ],
             [
              0.4444444444444444,
              "#bd3786"
             ],
             [
              0.5555555555555556,
              "#d8576b"
             ],
             [
              0.6666666666666666,
              "#ed7953"
             ],
             [
              0.7777777777777778,
              "#fb9f3a"
             ],
             [
              0.8888888888888888,
              "#fdca26"
             ],
             [
              1,
              "#f0f921"
             ]
            ],
            "type": "contour"
           }
          ],
          "contourcarpet": [
           {
            "colorbar": {
             "outlinewidth": 0,
             "ticks": ""
            },
            "type": "contourcarpet"
           }
          ],
          "heatmap": [
           {
            "colorbar": {
             "outlinewidth": 0,
             "ticks": ""
            },
            "colorscale": [
             [
              0,
              "#0d0887"
             ],
             [
              0.1111111111111111,
              "#46039f"
             ],
             [
              0.2222222222222222,
              "#7201a8"
             ],
             [
              0.3333333333333333,
              "#9c179e"
             ],
             [
              0.4444444444444444,
              "#bd3786"
             ],
             [
              0.5555555555555556,
              "#d8576b"
             ],
             [
              0.6666666666666666,
              "#ed7953"
             ],
             [
              0.7777777777777778,
              "#fb9f3a"
             ],
             [
              0.8888888888888888,
              "#fdca26"
             ],
             [
              1,
              "#f0f921"
             ]
            ],
            "type": "heatmap"
           }
          ],
          "histogram": [
           {
            "marker": {
             "pattern": {
              "fillmode": "overlay",
              "size": 10,
              "solidity": 0.2
             }
            },
            "type": "histogram"
           }
          ],
          "histogram2d": [
           {
            "colorbar": {
             "outlinewidth": 0,
             "ticks": ""
            },
            "colorscale": [
             [
              0,
              "#0d0887"
             ],
             [
              0.1111111111111111,
              "#46039f"
             ],
             [
              0.2222222222222222,
              "#7201a8"
             ],
             [
              0.3333333333333333,
              "#9c179e"
             ],
             [
              0.4444444444444444,
              "#bd3786"
             ],
             [
              0.5555555555555556,
              "#d8576b"
             ],
             [
              0.6666666666666666,
              "#ed7953"
             ],
             [
              0.7777777777777778,
              "#fb9f3a"
             ],
             [
              0.8888888888888888,
              "#fdca26"
             ],
             [
              1,
              "#f0f921"
             ]
            ],
            "type": "histogram2d"
           }
          ],
          "histogram2dcontour": [
           {
            "colorbar": {
             "outlinewidth": 0,
             "ticks": ""
            },
            "colorscale": [
             [
              0,
              "#0d0887"
             ],
             [
              0.1111111111111111,
              "#46039f"
             ],
             [
              0.2222222222222222,
              "#7201a8"
             ],
             [
              0.3333333333333333,
              "#9c179e"
             ],
             [
              0.4444444444444444,
              "#bd3786"
             ],
             [
              0.5555555555555556,
              "#d8576b"
             ],
             [
              0.6666666666666666,
              "#ed7953"
             ],
             [
              0.7777777777777778,
              "#fb9f3a"
             ],
             [
              0.8888888888888888,
              "#fdca26"
             ],
             [
              1,
              "#f0f921"
             ]
            ],
            "type": "histogram2dcontour"
           }
          ],
          "mesh3d": [
           {
            "colorbar": {
             "outlinewidth": 0,
             "ticks": ""
            },
            "type": "mesh3d"
           }
          ],
          "parcoords": [
           {
            "line": {
             "colorbar": {
              "outlinewidth": 0,
              "ticks": ""
             }
            },
            "type": "parcoords"
           }
          ],
          "pie": [
           {
            "automargin": true,
            "type": "pie"
           }
          ],
          "scatter": [
           {
            "fillpattern": {
             "fillmode": "overlay",
             "size": 10,
             "solidity": 0.2
            },
            "type": "scatter"
           }
          ],
          "scatter3d": [
           {
            "line": {
             "colorbar": {
              "outlinewidth": 0,
              "ticks": ""
             }
            },
            "marker": {
             "colorbar": {
              "outlinewidth": 0,
              "ticks": ""
             }
            },
            "type": "scatter3d"
           }
          ],
          "scattercarpet": [
           {
            "marker": {
             "colorbar": {
              "outlinewidth": 0,
              "ticks": ""
             }
            },
            "type": "scattercarpet"
           }
          ],
          "scattergeo": [
           {
            "marker": {
             "colorbar": {
              "outlinewidth": 0,
              "ticks": ""
             }
            },
            "type": "scattergeo"
           }
          ],
          "scattergl": [
           {
            "marker": {
             "colorbar": {
              "outlinewidth": 0,
              "ticks": ""
             }
            },
            "type": "scattergl"
           }
          ],
          "scattermap": [
           {
            "marker": {
             "colorbar": {
              "outlinewidth": 0,
              "ticks": ""
             }
            },
            "type": "scattermap"
           }
          ],
          "scattermapbox": [
           {
            "marker": {
             "colorbar": {
              "outlinewidth": 0,
              "ticks": ""
             }
            },
            "type": "scattermapbox"
           }
          ],
          "scatterpolar": [
           {
            "marker": {
             "colorbar": {
              "outlinewidth": 0,
              "ticks": ""
             }
            },
            "type": "scatterpolar"
           }
          ],
          "scatterpolargl": [
           {
            "marker": {
             "colorbar": {
              "outlinewidth": 0,
              "ticks": ""
             }
            },
            "type": "scatterpolargl"
           }
          ],
          "scatterternary": [
           {
            "marker": {
             "colorbar": {
              "outlinewidth": 0,
              "ticks": ""
             }
            },
            "type": "scatterternary"
           }
          ],
          "surface": [
           {
            "colorbar": {
             "outlinewidth": 0,
             "ticks": ""
            },
            "colorscale": [
             [
              0,
              "#0d0887"
             ],
             [
              0.1111111111111111,
              "#46039f"
             ],
             [
              0.2222222222222222,
              "#7201a8"
             ],
             [
              0.3333333333333333,
              "#9c179e"
             ],
             [
              0.4444444444444444,
              "#bd3786"
             ],
             [
              0.5555555555555556,
              "#d8576b"
             ],
             [
              0.6666666666666666,
              "#ed7953"
             ],
             [
              0.7777777777777778,
              "#fb9f3a"
             ],
             [
              0.8888888888888888,
              "#fdca26"
             ],
             [
              1,
              "#f0f921"
             ]
            ],
            "type": "surface"
           }
          ],
          "table": [
           {
            "cells": {
             "fill": {
              "color": "#EBF0F8"
             },
             "line": {
              "color": "white"
             }
            },
            "header": {
             "fill": {
              "color": "#C8D4E3"
             },
             "line": {
              "color": "white"
             }
            },
            "type": "table"
           }
          ]
         },
         "layout": {
          "annotationdefaults": {
           "arrowcolor": "#2a3f5f",
           "arrowhead": 0,
           "arrowwidth": 1
          },
          "autotypenumbers": "strict",
          "coloraxis": {
           "colorbar": {
            "outlinewidth": 0,
            "ticks": ""
           }
          },
          "colorscale": {
           "diverging": [
            [
             0,
             "#8e0152"
            ],
            [
             0.1,
             "#c51b7d"
            ],
            [
             0.2,
             "#de77ae"
            ],
            [
             0.3,
             "#f1b6da"
            ],
            [
             0.4,
             "#fde0ef"
            ],
            [
             0.5,
             "#f7f7f7"
            ],
            [
             0.6,
             "#e6f5d0"
            ],
            [
             0.7,
             "#b8e186"
            ],
            [
             0.8,
             "#7fbc41"
            ],
            [
             0.9,
             "#4d9221"
            ],
            [
             1,
             "#276419"
            ]
           ],
           "sequential": [
            [
             0,
             "#0d0887"
            ],
            [
             0.1111111111111111,
             "#46039f"
            ],
            [
             0.2222222222222222,
             "#7201a8"
            ],
            [
             0.3333333333333333,
             "#9c179e"
            ],
            [
             0.4444444444444444,
             "#bd3786"
            ],
            [
             0.5555555555555556,
             "#d8576b"
            ],
            [
             0.6666666666666666,
             "#ed7953"
            ],
            [
             0.7777777777777778,
             "#fb9f3a"
            ],
            [
             0.8888888888888888,
             "#fdca26"
            ],
            [
             1,
             "#f0f921"
            ]
           ],
           "sequentialminus": [
            [
             0,
             "#0d0887"
            ],
            [
             0.1111111111111111,
             "#46039f"
            ],
            [
             0.2222222222222222,
             "#7201a8"
            ],
            [
             0.3333333333333333,
             "#9c179e"
            ],
            [
             0.4444444444444444,
             "#bd3786"
            ],
            [
             0.5555555555555556,
             "#d8576b"
            ],
            [
             0.6666666666666666,
             "#ed7953"
            ],
            [
             0.7777777777777778,
             "#fb9f3a"
            ],
            [
             0.8888888888888888,
             "#fdca26"
            ],
            [
             1,
             "#f0f921"
            ]
           ]
          },
          "colorway": [
           "#636efa",
           "#EF553B",
           "#00cc96",
           "#ab63fa",
           "#FFA15A",
           "#19d3f3",
           "#FF6692",
           "#B6E880",
           "#FF97FF",
           "#FECB52"
          ],
          "font": {
           "color": "#2a3f5f"
          },
          "geo": {
           "bgcolor": "white",
           "lakecolor": "white",
           "landcolor": "#E5ECF6",
           "showlakes": true,
           "showland": true,
           "subunitcolor": "white"
          },
          "hoverlabel": {
           "align": "left"
          },
          "hovermode": "closest",
          "mapbox": {
           "style": "light"
          },
          "paper_bgcolor": "white",
          "plot_bgcolor": "#E5ECF6",
          "polar": {
           "angularaxis": {
            "gridcolor": "white",
            "linecolor": "white",
            "ticks": ""
           },
           "bgcolor": "#E5ECF6",
           "radialaxis": {
            "gridcolor": "white",
            "linecolor": "white",
            "ticks": ""
           }
          },
          "scene": {
           "xaxis": {
            "backgroundcolor": "#E5ECF6",
            "gridcolor": "white",
            "gridwidth": 2,
            "linecolor": "white",
            "showbackground": true,
            "ticks": "",
            "zerolinecolor": "white"
           },
           "yaxis": {
            "backgroundcolor": "#E5ECF6",
            "gridcolor": "white",
            "gridwidth": 2,
            "linecolor": "white",
            "showbackground": true,
            "ticks": "",
            "zerolinecolor": "white"
           },
           "zaxis": {
            "backgroundcolor": "#E5ECF6",
            "gridcolor": "white",
            "gridwidth": 2,
            "linecolor": "white",
            "showbackground": true,
            "ticks": "",
            "zerolinecolor": "white"
           }
          },
          "shapedefaults": {
           "line": {
            "color": "#2a3f5f"
           }
          },
          "ternary": {
           "aaxis": {
            "gridcolor": "white",
            "linecolor": "white",
            "ticks": ""
           },
           "baxis": {
            "gridcolor": "white",
            "linecolor": "white",
            "ticks": ""
           },
           "bgcolor": "#E5ECF6",
           "caxis": {
            "gridcolor": "white",
            "linecolor": "white",
            "ticks": ""
           }
          },
          "title": {
           "x": 0.05
          },
          "xaxis": {
           "automargin": true,
           "gridcolor": "white",
           "linecolor": "white",
           "ticks": "",
           "title": {
            "standoff": 15
           },
           "zerolinecolor": "white",
           "zerolinewidth": 2
          },
          "yaxis": {
           "automargin": true,
           "gridcolor": "white",
           "linecolor": "white",
           "ticks": "",
           "title": {
            "standoff": 15
           },
           "zerolinecolor": "white",
           "zerolinewidth": 2
          }
         }
        }
       }
      }
     },
     "metadata": {},
     "output_type": "display_data"
    }
   ],
   "source": [
    "import plotly.express as px\n",
    "df = px.data.iris()\n",
    "fig = px.scatter_3d(df, x='sepal_length', y='sepal_width', z='petal_width', color='species')\n",
    "fig.show()"
   ]
  },
  {
   "cell_type": "code",
   "execution_count": null,
   "metadata": {},
   "outputs": [],
   "source": []
  }
 ],
 "metadata": {
  "kernelspec": {
   "display_name": "default",
   "language": "python",
   "name": "python3"
  },
  "language_info": {
   "codemirror_mode": {
    "name": "ipython",
    "version": 3
   },
   "file_extension": ".py",
   "mimetype": "text/x-python",
   "name": "python",
   "nbconvert_exporter": "python",
   "pygments_lexer": "ipython3",
   "version": "3.13.2"
  }
 },
 "nbformat": 4,
 "nbformat_minor": 2
}
